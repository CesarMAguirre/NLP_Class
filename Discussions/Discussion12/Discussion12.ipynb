{
 "cells": [
  {
   "cell_type": "markdown",
   "id": "c8debc23",
   "metadata": {},
   "source": [
    "### Today, we will use Jeopardy as our data source"
   ]
  },
  {
   "cell_type": "code",
   "execution_count": 1,
   "id": "bb7155ed",
   "metadata": {},
   "outputs": [],
   "source": [
    "import json, re\n",
    "import requests\n",
    "import pandas as pd\n",
    "\n",
    "from sklearn.feature_extraction.text import TfidfVectorizer\n",
    "\n",
    "url = 'https://raw.githubusercontent.com/weaviate-tutorials/edu-datasets/main/jeopardy_100.json'\n",
    "resp = requests.get(url)\n",
    "data = json.loads(resp.text)\n",
    "jeopardy_data = pd.DataFrame(data)[['Question', 'Answer']]"
   ]
  },
  {
   "cell_type": "code",
   "execution_count": 2,
   "id": "56ceb868",
   "metadata": {},
   "outputs": [],
   "source": [
    "# 2. Simple text preprocessing (lowercase, remove non-alpha, remove stopwords)\n",
    "def simple_preprocess(text):\n",
    "    stopwords = set([\n",
    "        'the', 'and', 'is', 'in', 'to', 'of', 'a', 'for', 'on', 'with', 'as', 'by', 'an', 'at', 'from', 'that', 'this', 'it', 'be', 'or', 'are', 'was', 'but', 'not', 'which', 'have', 'has', 'had', 'were', 'their', 'they', 'you', 'he', 'she', 'we', 'his', 'her', 'its', 'them', 'our', 'us', 'can', 'will', 'would', 'should', 'could', 'may', 'might', 'do', 'does', 'did', 'so', 'if', 'then', 'than', 'about', 'into', 'out', 'up', 'down', 'over', 'under', 'again', 'further', 'once', 'here', 'there', 'when', 'where', 'why', 'how', 'all', 'any', 'both', 'each', 'few', 'more', 'most', 'other', 'some', 'such', 'no', 'nor', 'only', 'own', 'same', 'too', 'very', 's', 't', 'can', 'will', 'just', 'don', 'should', 'now'\n",
    "    ])\n",
    "    text = text.lower()\n",
    "    text = re.sub(r'[^a-z\\s]', '', text)\n",
    "    tokens = text.split()\n",
    "    tokens = [w for w in tokens if w not in stopwords]\n",
    "    return ' '.join(tokens)"
   ]
  },
  {
   "cell_type": "code",
   "execution_count": 3,
   "id": "9c5e0004",
   "metadata": {},
   "outputs": [],
   "source": [
    "# 3. Preprocess all questions\n",
    "jeopardy_data['processed_question'] = jeopardy_data['Question'].apply(simple_preprocess)"
   ]
  },
  {
   "cell_type": "code",
   "execution_count": 4,
   "id": "f3549170",
   "metadata": {},
   "outputs": [],
   "source": [
    "# 4. Fit TF-IDF vectorizer\n",
    "vectorizer = TfidfVectorizer(ngram_range=(1,2), min_df=3)\n",
    "tfidf_matrix = vectorizer.fit_transform(jeopardy_data['processed_question'])"
   ]
  },
  {
   "cell_type": "code",
   "execution_count": 5,
   "id": "5fd7c47b",
   "metadata": {},
   "outputs": [
    {
     "name": "stdout",
     "output_type": "stream",
     "text": [
      "                                            Question  \\\n",
      "0  Abraham Lincoln died across the street from th...   \n",
      "1  Any pigment on the wall so faded you can barel...   \n",
      "2  After the original 13, this was the 1st state ...   \n",
      "3  In 1922 Warren Harding said that this \"gauges ...   \n",
      "4  On Jan. 19, 1977 President Ford pardoned this ...   \n",
      "\n",
      "                                  processed_question  \n",
      "0   abraham lincoln died across street theatre april  \n",
      "1                      pigment wall faded barely see  \n",
      "2             after original st state admitted union  \n",
      "3  warren harding said gauges speed presentday li...  \n",
      "4  jan president ford pardoned woman whod been co...  \n"
     ]
    }
   ],
   "source": [
    "#5. Show sample processed data\n",
    "print(jeopardy_data[['Question', 'processed_question']].head())"
   ]
  },
  {
   "cell_type": "code",
   "execution_count": 6,
   "id": "1212dcf3",
   "metadata": {},
   "outputs": [],
   "source": [
    "from sklearn.metrics.pairwise import cosine_similarity\n",
    "\n",
    "def get_best_answer(user_question, threshold=0.3):\n",
    "    processed_q = simple_preprocess(user_question)\n",
    "    user_vec = vectorizer.transform([processed_q])\n",
    "    similarities = cosine_similarity(user_vec, tfidf_matrix)\n",
    "    best_idx = similarities.argmax()\n",
    "    best_score = similarities[0, best_idx]\n",
    "    if best_score < threshold:\n",
    "        return {\n",
    "            \"Matched Question\": None,\n",
    "            \"Answer\": \"No good match found.\",\n",
    "            \"Score\": best_score\n",
    "        }\n",
    "    return {\n",
    "        \"Matched Question\": jeopardy_data.iloc[best_idx]['Question'],\n",
    "        \"Answer\": jeopardy_data.iloc[best_idx]['Answer'],\n",
    "        \"Score\": best_score\n",
    "    }\n"
   ]
  },
  {
   "cell_type": "code",
   "execution_count": 8,
   "id": "43f47a5a",
   "metadata": {},
   "outputs": [
    {
     "name": "stdout",
     "output_type": "stream",
     "text": [
      "Your Question: Who was the first president of the United States?\n",
      "Matched Jeopardy Question: Seen <a href=\"http://www.j-archive.com/media/2007-07-25_J_18.jpg\" target=\"_blank\">here</a>, he was the earliest president ever to be photographed, & the first to have a middle name\n",
      "Jeopardy Answer: John Quincy Adams\n",
      "Similarity Score: 0.73\n",
      "------------------------------------------------------------\n"
     ]
    }
   ],
   "source": [
    "test_questions = [\n",
    "    \"Who was the first president of the United States?\",\n",
    "]\n",
    "\n",
    "for q in test_questions:\n",
    "    result = get_best_answer(q)\n",
    "    print(f\"Your Question: {q}\")\n",
    "    print(f\"Matched Jeopardy Question: {result['Matched Question']}\")\n",
    "    print(f\"Jeopardy Answer: {result['Answer']}\")\n",
    "    print(f\"Similarity Score: {result['Score']:.2f}\")\n",
    "    print(\"-\" * 60)\n"
   ]
  }
 ],
 "metadata": {
  "kernelspec": {
   "display_name": "Discussion12_NLP",
   "language": "python",
   "name": "python3"
  },
  "language_info": {
   "codemirror_mode": {
    "name": "ipython",
    "version": 3
   },
   "file_extension": ".py",
   "mimetype": "text/x-python",
   "name": "python",
   "nbconvert_exporter": "python",
   "pygments_lexer": "ipython3",
   "version": "3.11.11"
  }
 },
 "nbformat": 4,
 "nbformat_minor": 5
}
