{
 "cells": [
  {
   "cell_type": "markdown",
   "id": "42ca3f12",
   "metadata": {},
   "source": [
    "This week, we will look at leveraging LLMs. This discussion includes a reflexion of what impacted us the most from the whole course.\n",
    "\n",
    "What were your favorite elements of the course? \n",
    "Were there specific topics, activities, or assignments that stood out to you?\n",
    "Share your thoughts on what you found most engaging or impactful."
   ]
  }
 ],
 "metadata": {
  "language_info": {
   "name": "python"
  }
 },
 "nbformat": 4,
 "nbformat_minor": 5
}
