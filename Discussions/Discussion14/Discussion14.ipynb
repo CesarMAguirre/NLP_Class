{
 "cells": [
  {
   "cell_type": "markdown",
   "id": "42ca3f12",
   "metadata": {},
   "source": [
    "This week, we will look at leveraging LLMs. This discussion includes a reflexion of what impacted us the most from the whole course."
   ]
  }
 ],
 "metadata": {
  "language_info": {
   "name": "python"
  }
 },
 "nbformat": 4,
 "nbformat_minor": 5
}
